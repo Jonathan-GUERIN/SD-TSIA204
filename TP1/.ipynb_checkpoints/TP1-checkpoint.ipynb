{
 "cells": [
  {
   "cell_type": "markdown",
   "id": "a71594ed",
   "metadata": {},
   "source": [
    "# On fait le TP1"
   ]
  },
  {
   "cell_type": "code",
   "execution_count": 30,
   "id": "87b69887",
   "metadata": {},
   "outputs": [],
   "source": [
    "import math\n",
    "import numpy as np\n",
    "import tempfile\n",
    "import os\n",
    "import matplotlib.pyplot as plt\n",
    "import pandas as pd\n",
    "from scipy.stats import t"
   ]
  },
  {
   "cell_type": "markdown",
   "id": "3145703d",
   "metadata": {},
   "source": [
    "## Q1. Import Data"
   ]
  },
  {
   "cell_type": "code",
   "execution_count": 15,
   "id": "d06c1245",
   "metadata": {},
   "outputs": [
    {
     "data": {
      "text/html": [
       "<div>\n",
       "<style scoped>\n",
       "    .dataframe tbody tr th:only-of-type {\n",
       "        vertical-align: middle;\n",
       "    }\n",
       "\n",
       "    .dataframe tbody tr th {\n",
       "        vertical-align: top;\n",
       "    }\n",
       "\n",
       "    .dataframe thead th {\n",
       "        text-align: right;\n",
       "    }\n",
       "</style>\n",
       "<table border=\"1\" class=\"dataframe\">\n",
       "  <thead>\n",
       "    <tr style=\"text-align: right;\">\n",
       "      <th></th>\n",
       "      <th>year</th>\n",
       "      <th>gnp</th>\n",
       "      <th>invest</th>\n",
       "      <th>cpi</th>\n",
       "      <th>interest</th>\n",
       "    </tr>\n",
       "  </thead>\n",
       "  <tbody>\n",
       "    <tr>\n",
       "      <th>0</th>\n",
       "      <td>1968</td>\n",
       "      <td>873.4</td>\n",
       "      <td>133.3</td>\n",
       "      <td>82.54</td>\n",
       "      <td>5.16</td>\n",
       "    </tr>\n",
       "    <tr>\n",
       "      <th>1</th>\n",
       "      <td>1969</td>\n",
       "      <td>944</td>\n",
       "      <td>149.3</td>\n",
       "      <td>86.79</td>\n",
       "      <td>5.87</td>\n",
       "    </tr>\n",
       "    <tr>\n",
       "      <th>2</th>\n",
       "      <td>1970</td>\n",
       "      <td>992.7</td>\n",
       "      <td>144.2</td>\n",
       "      <td>91.45</td>\n",
       "      <td>5.95</td>\n",
       "    </tr>\n",
       "    <tr>\n",
       "      <th>3</th>\n",
       "      <td>1971</td>\n",
       "      <td>1077.6</td>\n",
       "      <td>166.4</td>\n",
       "      <td>96.01</td>\n",
       "      <td>4.88</td>\n",
       "    </tr>\n",
       "    <tr>\n",
       "      <th>4</th>\n",
       "      <td>1972</td>\n",
       "      <td>1185.9</td>\n",
       "      <td>195</td>\n",
       "      <td>100</td>\n",
       "      <td>4.5</td>\n",
       "    </tr>\n",
       "    <tr>\n",
       "      <th>5</th>\n",
       "      <td>1973</td>\n",
       "      <td>1326.4</td>\n",
       "      <td>229.8</td>\n",
       "      <td>105.75</td>\n",
       "      <td>6.44</td>\n",
       "    </tr>\n",
       "    <tr>\n",
       "      <th>6</th>\n",
       "      <td>1974</td>\n",
       "      <td>1434.2</td>\n",
       "      <td>228.7</td>\n",
       "      <td>115.08</td>\n",
       "      <td>7.83</td>\n",
       "    </tr>\n",
       "    <tr>\n",
       "      <th>7</th>\n",
       "      <td>1975</td>\n",
       "      <td>1549.2</td>\n",
       "      <td>206.1</td>\n",
       "      <td>125.79</td>\n",
       "      <td>6.25</td>\n",
       "    </tr>\n",
       "    <tr>\n",
       "      <th>8</th>\n",
       "      <td>1976</td>\n",
       "      <td>1718</td>\n",
       "      <td>257.9</td>\n",
       "      <td>132.34</td>\n",
       "      <td>5.5</td>\n",
       "    </tr>\n",
       "    <tr>\n",
       "      <th>9</th>\n",
       "      <td>1977</td>\n",
       "      <td>1918.3</td>\n",
       "      <td>324.1</td>\n",
       "      <td>140.05</td>\n",
       "      <td>5.46</td>\n",
       "    </tr>\n",
       "    <tr>\n",
       "      <th>10</th>\n",
       "      <td>1978</td>\n",
       "      <td>2163.9</td>\n",
       "      <td>386.6</td>\n",
       "      <td>150.42</td>\n",
       "      <td>7.46</td>\n",
       "    </tr>\n",
       "    <tr>\n",
       "      <th>11</th>\n",
       "      <td>1979</td>\n",
       "      <td>2417.8</td>\n",
       "      <td>423</td>\n",
       "      <td>163.42</td>\n",
       "      <td>10.28</td>\n",
       "    </tr>\n",
       "    <tr>\n",
       "      <th>12</th>\n",
       "      <td>1980</td>\n",
       "      <td>2633.1</td>\n",
       "      <td>402.3</td>\n",
       "      <td>178.64</td>\n",
       "      <td>11.77</td>\n",
       "    </tr>\n",
       "    <tr>\n",
       "      <th>13</th>\n",
       "      <td>1981</td>\n",
       "      <td>2937.7</td>\n",
       "      <td>471.5</td>\n",
       "      <td>195.51</td>\n",
       "      <td>13.42</td>\n",
       "    </tr>\n",
       "    <tr>\n",
       "      <th>14</th>\n",
       "      <td>1982</td>\n",
       "      <td>3057.5</td>\n",
       "      <td>421.9</td>\n",
       "      <td>207.23</td>\n",
       "      <td>11.02</td>\n",
       "    </tr>\n",
       "  </tbody>\n",
       "</table>\n",
       "</div>"
      ],
      "text/plain": [
       "    year     gnp invest     cpi interest\n",
       "0   1968   873.4  133.3   82.54     5.16\n",
       "1   1969     944  149.3   86.79     5.87\n",
       "2   1970   992.7  144.2   91.45     5.95\n",
       "3   1971  1077.6  166.4   96.01     4.88\n",
       "4   1972  1185.9    195     100      4.5\n",
       "5   1973  1326.4  229.8  105.75     6.44\n",
       "6   1974  1434.2  228.7  115.08     7.83\n",
       "7   1975  1549.2  206.1  125.79     6.25\n",
       "8   1976    1718  257.9  132.34      5.5\n",
       "9   1977  1918.3  324.1  140.05     5.46\n",
       "10  1978  2163.9  386.6  150.42     7.46\n",
       "11  1979  2417.8    423  163.42    10.28\n",
       "12  1980  2633.1  402.3  178.64    11.77\n",
       "13  1981  2937.7  471.5  195.51    13.42\n",
       "14  1982  3057.5  421.9  207.23    11.02"
      ]
     },
     "execution_count": 15,
     "metadata": {},
     "output_type": "execute_result"
    }
   ],
   "source": [
    "data = pd.read_csv('invest.txt', sep=\" \", header=None)\n",
    "data.columns = [\"year\", \"gnp\", \"invest\", \"cpi\", \"interest\"]\n",
    "data = data.iloc[1: , :]\n",
    "data.reset_index(drop=True, inplace=True)\n",
    "data"
   ]
  },
  {
   "cell_type": "code",
   "execution_count": 16,
   "id": "743605f0",
   "metadata": {},
   "outputs": [
    {
     "data": {
      "text/html": [
       "<div>\n",
       "<style scoped>\n",
       "    .dataframe tbody tr th:only-of-type {\n",
       "        vertical-align: middle;\n",
       "    }\n",
       "\n",
       "    .dataframe tbody tr th {\n",
       "        vertical-align: top;\n",
       "    }\n",
       "\n",
       "    .dataframe thead th {\n",
       "        text-align: right;\n",
       "    }\n",
       "</style>\n",
       "<table border=\"1\" class=\"dataframe\">\n",
       "  <thead>\n",
       "    <tr style=\"text-align: right;\">\n",
       "      <th></th>\n",
       "      <th>year</th>\n",
       "      <th>gnp</th>\n",
       "      <th>invest</th>\n",
       "      <th>cpi</th>\n",
       "      <th>interest</th>\n",
       "    </tr>\n",
       "  </thead>\n",
       "  <tbody>\n",
       "    <tr>\n",
       "      <th>0</th>\n",
       "      <td>1968</td>\n",
       "      <td>873.4</td>\n",
       "      <td>133.3</td>\n",
       "      <td>82.54</td>\n",
       "      <td>5.16</td>\n",
       "    </tr>\n",
       "    <tr>\n",
       "      <th>1</th>\n",
       "      <td>1969</td>\n",
       "      <td>944</td>\n",
       "      <td>149.3</td>\n",
       "      <td>86.79</td>\n",
       "      <td>5.87</td>\n",
       "    </tr>\n",
       "    <tr>\n",
       "      <th>2</th>\n",
       "      <td>1970</td>\n",
       "      <td>992.7</td>\n",
       "      <td>144.2</td>\n",
       "      <td>91.45</td>\n",
       "      <td>5.95</td>\n",
       "    </tr>\n",
       "    <tr>\n",
       "      <th>3</th>\n",
       "      <td>1971</td>\n",
       "      <td>1077.6</td>\n",
       "      <td>166.4</td>\n",
       "      <td>96.01</td>\n",
       "      <td>4.88</td>\n",
       "    </tr>\n",
       "    <tr>\n",
       "      <th>4</th>\n",
       "      <td>1972</td>\n",
       "      <td>1185.9</td>\n",
       "      <td>195</td>\n",
       "      <td>100</td>\n",
       "      <td>4.5</td>\n",
       "    </tr>\n",
       "  </tbody>\n",
       "</table>\n",
       "</div>"
      ],
      "text/plain": [
       "   year     gnp invest    cpi interest\n",
       "0  1968   873.4  133.3  82.54     5.16\n",
       "1  1969     944  149.3  86.79     5.87\n",
       "2  1970   992.7  144.2  91.45     5.95\n",
       "3  1971  1077.6  166.4  96.01     4.88\n",
       "4  1972  1185.9    195    100      4.5"
      ]
     },
     "execution_count": 16,
     "metadata": {},
     "output_type": "execute_result"
    }
   ],
   "source": [
    "small_data = data.head(5)\n",
    "small_data\n"
   ]
  },
  {
   "cell_type": "markdown",
   "id": "f04e7fe5",
   "metadata": {},
   "source": [
    "## Q2. Plot Data"
   ]
  },
  {
   "cell_type": "code",
   "execution_count": 17,
   "id": "1ac8384e",
   "metadata": {},
   "outputs": [
    {
     "data": {
      "text/plain": [
       "[<matplotlib.lines.Line2D at 0x1e1a89a3cd0>]"
      ]
     },
     "execution_count": 17,
     "metadata": {},
     "output_type": "execute_result"
    },
    {
     "data": {
      "image/png": "[encoded data removed]",
      "text/plain": [
       "<Figure size 432x288 with 1 Axes>"
      ]
     },
     "metadata": {
      "needs_background": "light"
     },
     "output_type": "display_data"
    }
   ],
   "source": [
    "x = data['gnp']\n",
    "y = data['invest']\n",
    "plt.title(\" invest = f(gnp)\")\n",
    "plt.scatter(x,y)\n",
    "plt.plot(x,y)"
   ]
  },
  {
   "cell_type": "code",
   "execution_count": 21,
   "id": "a39466cb",
   "metadata": {},
   "outputs": [
    {
     "data": {
      "text/plain": [
       "[<matplotlib.lines.Line2D at 0x1e1a8af3910>]"
      ]
     },
     "execution_count": 21,
     "metadata": {},
     "output_type": "execute_result"
    },
    {
     "data": {
      "image/png": "[encoded data removed]",
      "text/plain": [
       "<Figure size 432x288 with 1 Axes>"
      ]
     },
     "metadata": {
      "needs_background": "light"
     },
     "output_type": "display_data"
    }
   ],
   "source": [
    "data['gnp_log2'] = np.log2(data['gnp'].values.astype(float))\n",
    "data['invest_log2'] = np.log2(data['invest'].values.astype(float))\n",
    "x = data['gnp_log2']\n",
    "y = data['invest_log2']\n",
    "plt.title(\" log2(invest) = f(log2(gnp))\")\n",
    "plt.scatter(x,y)\n",
    "plt.plot(x,y)"
   ]
  },
  {
   "cell_type": "markdown",
   "id": "d4921998",
   "metadata": {},
   "source": [
    "## Q3. Estimate"
   ]
  },
  {
   "cell_type": "code",
   "execution_count": 29,
   "id": "059dbe0d",
   "metadata": {},
   "outputs": [
    {
     "name": "stdout",
     "output_type": "stream",
     "text": [
      "[873.4, 944.0, 992.7, 1077.6, 1185.9, 1326.4, 1434.2, 1549.2, 1718.0, 1918.3, 2163.9, 2417.8, 2633.1, 2937.7, 3057.5]\n",
      "B1 = 0.15496368358808527\n",
      "B0 = 5.02993790597327\n",
      "Var_B1 = 0.00010469598906470838\n",
      "Var_B0 = 373.3773529146645\n",
      "R2 = 0.9463622043994033\n"
     ]
    }
   ],
   "source": [
    "x = data['gnp']\n",
    "y = data['invest']\n",
    "\n",
    "\n",
    "x_list = x.tolist()\n",
    "y_list = y.tolist()\n",
    "x_list = [float(k) for k in x_list]\n",
    "y_list = [float(k) for k in y_list]\n",
    "print(x_list)\n",
    "n = len(x_list)\n",
    "x_mean = 0\n",
    "y_mean = 0\n",
    "for i in range(n):\n",
    "    x_mean += x_list[i]\n",
    "    y_mean += y_list[i]\n",
    "x_mean = x_mean/n\n",
    "y_mean = y_mean/n\n",
    "\n",
    "B1 = 0\n",
    "den = 0\n",
    "for i in range(len(x_list)):\n",
    "    B1 += (x_list[i] - x_mean) * (y_list[i] - y_mean)\n",
    "    den += (x_list[i] - x_mean) * (x_list[i] - x_mean)\n",
    "B1 = B1/den\n",
    "    \n",
    "B0 = y_mean-B1*x_mean\n",
    "\n",
    "print('B1 = ' + str(B1))\n",
    "print('B0 = ' + str(B0))\n",
    "\n",
    "sieg = 0\n",
    "for i in range(len(x_list)):\n",
    "    sieg += (y_list[i] - (B0 + B1*x_list[i])) * (y_list[i] - (B0 + B1*x_list[i])) \n",
    "sieg = sieg / (n-2)\n",
    "\n",
    "\n",
    "\n",
    "Var_B0 = sieg*(1/n + x_mean*x_mean/den)\n",
    "Var_B1 = sieg/den\n",
    "\n",
    "print('Var_B1 = ' + str(Var_B1))\n",
    "print('Var_B0 = ' + str(Var_B0))\n",
    "\n",
    "R2 = 0\n",
    "den2 = 0\n",
    "for i in range(len(x_list)):\n",
    "    R2 += (B0+B1*x_list[i] - y_mean) * (B0+B1*x_list[i] - y_mean)\n",
    "    den2 += (y_list[i] - y_mean) * (y_list[i] - y_mean)\n",
    "R2 = R2/den2\n",
    "\n",
    "print('R2 = ' + str(R2))"
   ]
  },
  {
   "cell_type": "markdown",
   "id": "0f895813",
   "metadata": {},
   "source": [
    "## Q4. Test"
   ]
  },
  {
   "cell_type": "code",
   "execution_count": 34,
   "id": "cf740d14",
   "metadata": {},
   "outputs": [
    {
     "name": "stdout",
     "output_type": "stream",
     "text": [
      "ok for B0\n",
      "not ok for B1\n",
      "p-value is 6.130546070792775e-10\n"
     ]
    }
   ],
   "source": [
    "alpha = 0.05\n",
    "t01 = -t.ppf(1-alpha/2, n - (1+1))\n",
    "t02 = t.ppf(1-alpha/2, n - (1+1))\n",
    "test0 = B0/np.sqrt(Var_B0)\n",
    "test1 = B1/np.sqrt(Var_B1)\n",
    "if test0 < t02 and test0 > t01:\n",
    "    print('ok for B0')\n",
    "else:\n",
    "    print('not ok for B0')\n",
    "if test1 < t02 and test1 > t01:\n",
    "    print('ok for B1')\n",
    "else:\n",
    "    print('not ok for B1')\n",
    "\n",
    "p_value = 1 - t.cdf(test1, n - (1+1))\n",
    "\n",
    "print('p-value is '+ str(p_value))"
   ]
  },
  {
   "cell_type": "markdown",
   "id": "8d91341d",
   "metadata": {},
   "source": [
    "## Q5. Estimate"
   ]
  },
  {
   "cell_type": "code",
   "execution_count": 37,
   "id": "d68b9f7e",
   "metadata": {},
   "outputs": [
    {
     "name": "stdout",
     "output_type": "stream",
     "text": [
      "estimated invest is 159.99362149405854\n",
      "Confidence interval is [141.2584553789126,178.7287876092045]\n",
      "Prediction interval is [106.55528951696672,213.43195347115036]\n"
     ]
    }
   ],
   "source": [
    "gnp = 1000\n",
    "invest = B0 + B1 * gnp\n",
    "alpha = 0.1\n",
    "print('estimated invest is '+str(invest))\n",
    "\n",
    "sieg = 0\n",
    "for i in range(len(x_list)):\n",
    "    sieg += (y_list[i] - (B0 + B1*x_list[i])) * (y_list[i] - (B0 + B1*x_list[i])) \n",
    "sieg = sieg / (n-2)\n",
    "den = 0\n",
    "for i in range(len(x_list)):\n",
    "    den += (x_list[i] - x_mean) * (x_list[i] - x_mean)\n",
    "\n",
    "\n",
    "#confidence\n",
    "CI01 = B0 + B1 * gnp - t.ppf(1-alpha/2, n-2)*np.sqrt(sieg)*np.sqrt(1/n+((gnp-x_mean)**2)/den)\n",
    "CI02 = B0 + B1 * gnp + t.ppf(1-alpha/2, n-2)*np.sqrt(sieg)*np.sqrt(1/n+((gnp-x_mean)**2)/den)\n",
    "print('Confidence interval is ['+str(CI01)+','+str(CI02)+str(']'))\n",
    "\n",
    "#prediction\n",
    "PI01 = B0 + B1 * gnp - t.ppf(1-alpha/2, n-2)*np.sqrt(sieg)*np.sqrt(1+1/n+((gnp-x_mean)**2)/den)\n",
    "PI02 = B0 + B1 * gnp + t.ppf(1-alpha/2, n-2)*np.sqrt(sieg)*np.sqrt(1+1/n+((gnp-x_mean)**2)/den)\n",
    "print('Prediction interval is ['+str(PI01)+','+str(PI02)+str(']'))\n"
   ]
  },
  {
   "cell_type": "markdown",
   "id": "e5410261",
   "metadata": {},
   "source": [
    "## Q6. Logarithmic Plot"
   ]
  },
  {
   "cell_type": "code",
   "execution_count": 38,
   "id": "eaf834a2",
   "metadata": {},
   "outputs": [
    {
     "data": {
      "text/plain": [
       "<matplotlib.collections.PathCollection at 0x1e1ab9f1850>"
      ]
     },
     "execution_count": 38,
     "metadata": {},
     "output_type": "execute_result"
    },
    {
     "data": {
      "image/png": "[encoded data removed]",
      "text/plain": [
       "<Figure size 432x288 with 1 Axes>"
      ]
     },
     "metadata": {
      "needs_background": "light"
     },
     "output_type": "display_data"
    }
   ],
   "source": [
    "#data['gnp_log2'] = np.log2(data['gnp'].values.astype(float))\n",
    "#data['invest_log2'] = np.log2(data['invest'].values.astype(float))\n",
    "x = data['gnp_log2']\n",
    "y = data['invest_log2']\n",
    "plt.title(\" log2(invest) = f(log2(gnp))\")\n",
    "plt.scatter(x,y)"
   ]
  },
  {
   "cell_type": "code",
   "execution_count": null,
   "id": "e1bcd966",
   "metadata": {},
   "outputs": [],
   "source": []
  }
 ],
 "metadata": {
  "kernelspec": {
   "display_name": "Python 3 (ipykernel)",
   "language": "python",
   "name": "python3"
  },
  "language_info": {
   "codemirror_mode": {
    "name": "ipython",
    "version": 3
   },
   "file_extension": ".py",
   "mimetype": "text/x-python",
   "name": "python",
   "nbconvert_exporter": "python",
   "pygments_lexer": "ipython3",
   "version": "3.9.12"
  }
 },
 "nbformat": 4,
 "nbformat_minor": 5
}
